{
  "cells": [
    {
      "cell_type": "code",
      "execution_count": null,
      "metadata": {
        "id": "nD-uPyQ_2jiN"
      },
      "outputs": [],
      "source": [
        "# Download YOLOv7 repository and install requirements\n",
        "!git clone https://github.com/WongKinYiu/yolov7\n",
        "%cd yolov7\n",
        "!pip install -r requirements.txt\n",
        "from google.colab import files\n"
      ]
    },
    {
      "cell_type": "code",
      "execution_count": null,
      "metadata": {
        "colab": {
          "base_uri": "https://localhost:8080/"
        },
        "id": "iAZ24O28P-qV",
        "outputId": "d8c77875-a88e-4131-b28a-cb2c71752e9c"
      },
      "outputs": [
        {
          "name": "stdout",
          "output_type": "stream",
          "text": [
            "Mounted at /content/drive\n"
          ]
        }
      ],
      "source": [
        "# mount the drive, if necessary\n",
        "from google.colab import drive\n",
        "drive.mount('/content/drive')"
      ]
    },
    {
      "cell_type": "code",
      "execution_count": null,
      "metadata": {
        "id": "bUbmy674bhpD"
      },
      "outputs": [],
      "source": [
        "# download COCO starting checkpoint\n",
        "%cd /content/yolov7"
      ]
    },
    {
      "cell_type": "code",
      "execution_count": null,
      "metadata": {
        "id": "Wxlcg3dW5uU0"
      },
      "outputs": [],
      "source": [
        "#%cd ./KI-projekt.v1i.yolov7pytorch/\n",
        "%cd /content/yolov7/palm.v2i.yolov7pytorch\n",
        "!unzip ./palm.v2i.yolov7pytorch.zip"
      ]
    },
    {
      "cell_type": "code",
      "execution_count": null,
      "metadata": {
        "id": "1iqOPKjr22mL"
      },
      "outputs": [],
      "source": [
        "# begin training\n",
        "%cd /content/yolov7\n",
        "!python train.py --batch 16 --epochs 25 --data ./palm.v2i.yolov7pytorch/data.yaml --weights 'best(1).pt' --device 0 \n",
        "files.download('/content/yolov7/runs/train/exp4/weights/best.pt') "
      ]
    }
  ],
  "metadata": {
    "accelerator": "GPU",
    "colab": {
      "collapsed_sections": [
        "mtJ24mPlyF-S"
      ],
      "provenance": []
    },
    "gpuClass": "standard",
    "kernelspec": {
      "display_name": "Python 3",
      "language": "python",
      "name": "python3"
    },
    "language_info": {
      "name": "python",
      "version": "3.10.5 (tags/v3.10.5:f377153, Jun  6 2022, 16:14:13) [MSC v.1929 64 bit (AMD64)]"
    },
    "vscode": {
      "interpreter": {
        "hash": "dde261dab7c3474bef718a49fddeebf7cb808540c3ac999bab0b1c47402b15b5"
      }
    }
  },
  "nbformat": 4,
  "nbformat_minor": 0
}
